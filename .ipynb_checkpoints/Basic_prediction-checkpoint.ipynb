{
 "cells": [
  {
   "cell_type": "code",
   "execution_count": null,
   "id": "423e8d2c-1849-45ec-bdea-eb55dc59f3e6",
   "metadata": {},
   "outputs": [],
   "source": [
    "import pymysql\n",
    "\n",
    "try:\n",
    "    # Establish the connection\n",
    "    connection = pymysql.connect(\n",
    "        host='your_host',\n",
    "        user='your_username',\n",
    "        password='your_password',\n",
    "        database='your_database',\n",
    "        connect_timeout=180\n",
    "    )\n",
    "    \n",
    "    # Connection is established\n",
    "    print(\"Connection successful!\")\n",
    "    \n",
    "    # Perform database operations\n",
    "    \n",
    "    # Close the connection\n",
    "    connection.close()\n",
    "\n",
    "except pymysql.Error as e:\n",
    "    # Connection error occurred\n",
    "    print(\"Connection error:\", str(e))\n"
   ]
  },
  {
   "cell_type": "code",
   "execution_count": 9,
   "id": "0927d90b-7609-4d49-8f8e-7caa43e55ffb",
   "metadata": {},
   "outputs": [
    {
     "name": "stdout",
     "output_type": "stream",
     "text": [
      "Collecting psycopg2\n",
      "  Downloading psycopg2-2.9.6.tar.gz (383 kB)\n",
      "\u001b[2K     \u001b[90m━━━━━━━━━━━━━━━━━━━━━━━━━━━━━━━━━━━━━\u001b[0m \u001b[32m384.0/384.0 kB\u001b[0m \u001b[31m282.7 kB/s\u001b[0m eta \u001b[36m0:00:00\u001b[0m00:01\u001b[0m00:01\u001b[0m\n",
      "\u001b[?25h  Preparing metadata (setup.py) ... \u001b[?25ldone\n",
      "\u001b[?25hBuilding wheels for collected packages: psycopg2\n",
      "  Building wheel for psycopg2 (setup.py) ... \u001b[?25ldone\n",
      "\u001b[?25h  Created wheel for psycopg2: filename=psycopg2-2.9.6-cp39-cp39-macosx_10_9_x86_64.whl size=133714 sha256=3d57cfff7bec7e1da47e347f039addff74860a225cf6d4e178f0923d187af216\n",
      "  Stored in directory: /Users/thatokagiso/Library/Caches/pip/wheels/e0/1d/09/2bc95af38e38d614767de0126fbf27a55a5c277f612aa6a51f\n",
      "Successfully built psycopg2\n",
      "Installing collected packages: psycopg2\n",
      "Successfully installed psycopg2-2.9.6\n",
      "Note: you may need to restart the kernel to use updated packages.\n"
     ]
    }
   ],
   "source": [
    "pip install psycopg2"
   ]
  },
  {
   "cell_type": "code",
   "execution_count": 10,
   "id": "1b72a744-81e7-4eb8-aa28-54f6665e23a3",
   "metadata": {},
   "outputs": [
    {
     "name": "stdout",
     "output_type": "stream",
     "text": [
      "Connection error: could not connect to server: Operation timed out\n",
      "\tIs the server running on host \"jobjack-tech-assessments-do-user-3965150-0.b.db.ondigitalocean.com\" (134.209.81.184) and accepting\n",
      "\tTCP/IP connections on port 5432?\n",
      "\n"
     ]
    }
   ],
   "source": [
    "import psycopg2\n",
    "\n",
    "try:\n",
    "    # Establish the connection\n",
    "    connection = psycopg2.connect(\n",
    "        host='jobjack-tech-assessments-do-user-3965150-0.b.db.ondigitalocean.com',\n",
    "        user='doadmin',\n",
    "        password='AVNS_rbiTyQ_BS7wAYbXjFhV',\n",
    "        database='tech_assess_thato',\n",
    "        connect_timeout=180,\n",
    "        port=25060\n",
    "    )\n",
    "    \n",
    "    # Connection is established\n",
    "    print(\"Connection successful!\")\n",
    "    \n",
    "    # Perform database operations\n",
    "    \n",
    "    # Close the connection\n",
    "    connection.close()\n",
    "\n",
    "except psycopg2.Error as e:\n",
    "    # Connection error occurred\n",
    "    print(\"Connection error:\", str(e))\n"
   ]
  },
  {
   "cell_type": "code",
   "execution_count": 6,
   "id": "87022bd5-8194-4910-a7dc-197ad70476f0",
   "metadata": {
    "tags": []
   },
   "outputs": [
    {
     "name": "stdout",
     "output_type": "stream",
     "text": [
      "Connection error: (2003, \"Can't connect to MySQL server on 'jobjack-tech-assessments-do-user-3965150-0.b.db.ondigitalocean.com' ([Errno 60] Operation timed out)\")\n"
     ]
    }
   ],
   "source": [
    "import pymysql\n",
    "\n",
    "try:\n",
    "    # Connect to the database\n",
    "    connection = pymysql.connect(\n",
    "        host='jobjack-tech-assessments-do-user-3965150-0.b.db.ondigitalocean.com',\n",
    "        user='doadmin',\n",
    "        password='AVNS_rbiTyQ_BS7wAYbXjFhV',\n",
    "        database='tech_assess_thato',\n",
    "        connect_timeout=480\n",
    "    )\n",
    "\n",
    "        # Perform database operations\n",
    "    cursor = connection.cursor()\n",
    "        # cursor.execute(\"SELECT * FROM your_table\")\n",
    "        # results = cursor.fetchall()\n",
    "\n",
    "        # Close the connection\n",
    "    connection.close()\n",
    "\n",
    "except pymysql.Error as e:\n",
    "    # Connection error occurred\n",
    "    print(\"Connection error:\", str(e))\n"
   ]
  },
  {
   "cell_type": "code",
   "execution_count": null,
   "id": "874796f3-44bb-432b-a94c-fe6fb45b3c6e",
   "metadata": {},
   "outputs": [],
   "source": [
    "username = doadmin\n",
    "password = AVNS_rbiTyQ_BS7wAYbXjFhV\n",
    "host = jobjack-tech-assessments-do-user-3965150-0.b.db.ondigitalocean.com\n",
    "port = 25060\n",
    "database = tech_assess_thato\n",
    "sslmode = require"
   ]
  }
 ],
 "metadata": {
  "kernelspec": {
   "display_name": "Python 3 (ipykernel)",
   "language": "python",
   "name": "python3"
  },
  "language_info": {
   "codemirror_mode": {
    "name": "ipython",
    "version": 3
   },
   "file_extension": ".py",
   "mimetype": "text/x-python",
   "name": "python",
   "nbconvert_exporter": "python",
   "pygments_lexer": "ipython3",
   "version": "3.9.16"
  }
 },
 "nbformat": 4,
 "nbformat_minor": 5
}
